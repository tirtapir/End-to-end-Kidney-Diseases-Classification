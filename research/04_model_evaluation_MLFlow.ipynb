{
 "cells": [
  {
   "cell_type": "code",
   "execution_count": 1,
   "metadata": {},
   "outputs": [
    {
     "data": {
      "text/plain": [
       "'/Users/tirtarumy/Documents/Data scientist porto/Self Project/ML Engineer (Deep Learning)/Kidney Diseases Classifications/research'"
      ]
     },
     "execution_count": 1,
     "metadata": {},
     "output_type": "execute_result"
    }
   ],
   "source": [
    "import os\n",
    "%pwd"
   ]
  },
  {
   "cell_type": "code",
   "execution_count": 2,
   "metadata": {},
   "outputs": [
    {
     "data": {
      "text/plain": [
       "'/Users/tirtarumy/Documents/Data scientist porto/Self Project/ML Engineer (Deep Learning)/Kidney Diseases Classifications'"
      ]
     },
     "execution_count": 2,
     "metadata": {},
     "output_type": "execute_result"
    }
   ],
   "source": [
    "os.chdir(\"/Users/tirtarumy/Documents/Data scientist porto/Self Project/ML Engineer (Deep Learning)/Kidney Diseases Classifications\")\n",
    "%pwd"
   ]
  },
  {
   "cell_type": "code",
   "execution_count": 3,
   "metadata": {},
   "outputs": [],
   "source": [
    "os.environ[\"ML_FLOW_TRACKING_URI\"] = \"http://\"\n",
    "os.environ[\"ML_FLOW-TRACKING_USERNAME\"] = \"tirtapir\"\n",
    "os.environ[\"ML_FLOW-TRACKING_PASSWORD\"] = \"kidney_disease\""
   ]
  },
  {
   "cell_type": "code",
   "execution_count": 4,
   "metadata": {},
   "outputs": [],
   "source": [
    "# !pip install dagshub\n",
    "# !pip install mlflow"
   ]
  },
  {
   "cell_type": "code",
   "execution_count": 5,
   "metadata": {},
   "outputs": [
    {
     "data": {
      "text/html": [
       "<pre style=\"white-space:pre;overflow-x:auto;line-height:normal;font-family:Menlo,'DejaVu Sans Mono',consolas,'Courier New',monospace\">Accessing as tirtapir\n",
       "</pre>\n"
      ],
      "text/plain": [
       "Accessing as tirtapir\n"
      ]
     },
     "metadata": {},
     "output_type": "display_data"
    },
    {
     "data": {
      "text/html": [
       "<pre style=\"white-space:pre;overflow-x:auto;line-height:normal;font-family:Menlo,'DejaVu Sans Mono',consolas,'Courier New',monospace\">Initialized MLflow to track repo <span style=\"color: #008000; text-decoration-color: #008000\">\"tirtapir/End-to-end-Kidney-Diseases-Classification\"</span>\n",
       "</pre>\n"
      ],
      "text/plain": [
       "Initialized MLflow to track repo \u001b[32m\"tirtapir/End-to-end-Kidney-Diseases-Classification\"\u001b[0m\n"
      ]
     },
     "metadata": {},
     "output_type": "display_data"
    },
    {
     "data": {
      "text/html": [
       "<pre style=\"white-space:pre;overflow-x:auto;line-height:normal;font-family:Menlo,'DejaVu Sans Mono',consolas,'Courier New',monospace\">Repository tirtapir/End-to-end-Kidney-Diseases-Classification initialized!\n",
       "</pre>\n"
      ],
      "text/plain": [
       "Repository tirtapir/End-to-end-Kidney-Diseases-Classification initialized!\n"
      ]
     },
     "metadata": {},
     "output_type": "display_data"
    },
    {
     "name": "stderr",
     "output_type": "stream",
     "text": [
      "2024/09/27 10:23:14 INFO mlflow.tracking._tracking_service.client: 🏃 View run traveling-swan-626 at: https://dagshub.com/tirtapir/End-to-end-Kidney-Diseases-Classification.mlflow/#/experiments/0/runs/2b4397def2474ad9941d2184c5e1e3f9.\n",
      "2024/09/27 10:23:14 INFO mlflow.tracking._tracking_service.client: 🧪 View experiment at: https://dagshub.com/tirtapir/End-to-end-Kidney-Diseases-Classification.mlflow/#/experiments/0.\n"
     ]
    }
   ],
   "source": [
    "import dagshub\n",
    "dagshub.init(repo_owner='tirtapir', repo_name='End-to-end-Kidney-Diseases-Classification', mlflow=True)\n",
    "\n",
    "import mlflow\n",
    "with mlflow.start_run():\n",
    "  mlflow.log_param('parameter name', 'value')\n",
    "  mlflow.log_metric('metric name', 1)"
   ]
  },
  {
   "cell_type": "code",
   "execution_count": 9,
   "metadata": {},
   "outputs": [
    {
     "name": "stdout",
     "output_type": "stream",
     "text": [
      "Requirement already satisfied: tensorflow-macos in /Users/tirtarumy/anaconda3/envs/kidney_disease/lib/python3.8/site-packages (2.13.0)\n",
      "Requirement already satisfied: absl-py>=1.0.0 in /Users/tirtarumy/anaconda3/envs/kidney_disease/lib/python3.8/site-packages (from tensorflow-macos) (2.1.0)\n",
      "Requirement already satisfied: astunparse>=1.6.0 in /Users/tirtarumy/anaconda3/envs/kidney_disease/lib/python3.8/site-packages (from tensorflow-macos) (1.6.3)\n",
      "Requirement already satisfied: flatbuffers>=23.1.21 in /Users/tirtarumy/anaconda3/envs/kidney_disease/lib/python3.8/site-packages (from tensorflow-macos) (24.3.25)\n",
      "Requirement already satisfied: gast<=0.4.0,>=0.2.1 in /Users/tirtarumy/anaconda3/envs/kidney_disease/lib/python3.8/site-packages (from tensorflow-macos) (0.4.0)\n",
      "Requirement already satisfied: google-pasta>=0.1.1 in /Users/tirtarumy/anaconda3/envs/kidney_disease/lib/python3.8/site-packages (from tensorflow-macos) (0.2.0)\n",
      "Requirement already satisfied: h5py>=2.9.0 in /Users/tirtarumy/anaconda3/envs/kidney_disease/lib/python3.8/site-packages (from tensorflow-macos) (3.11.0)\n",
      "Requirement already satisfied: libclang>=13.0.0 in /Users/tirtarumy/anaconda3/envs/kidney_disease/lib/python3.8/site-packages (from tensorflow-macos) (18.1.1)\n",
      "Requirement already satisfied: numpy<=1.24.3,>=1.22 in /Users/tirtarumy/anaconda3/envs/kidney_disease/lib/python3.8/site-packages (from tensorflow-macos) (1.24.3)\n",
      "Requirement already satisfied: opt-einsum>=2.3.2 in /Users/tirtarumy/anaconda3/envs/kidney_disease/lib/python3.8/site-packages (from tensorflow-macos) (3.3.0)\n",
      "Requirement already satisfied: packaging in /Users/tirtarumy/anaconda3/envs/kidney_disease/lib/python3.8/site-packages (from tensorflow-macos) (23.2)\n",
      "Requirement already satisfied: protobuf!=4.21.0,!=4.21.1,!=4.21.2,!=4.21.3,!=4.21.4,!=4.21.5,<5.0.0dev,>=3.20.3 in /Users/tirtarumy/anaconda3/envs/kidney_disease/lib/python3.8/site-packages (from tensorflow-macos) (3.20.3)\n",
      "Requirement already satisfied: setuptools in /Users/tirtarumy/anaconda3/envs/kidney_disease/lib/python3.8/site-packages (from tensorflow-macos) (69.5.1)\n",
      "Requirement already satisfied: six>=1.12.0 in /Users/tirtarumy/anaconda3/envs/kidney_disease/lib/python3.8/site-packages (from tensorflow-macos) (1.16.0)\n",
      "Requirement already satisfied: termcolor>=1.1.0 in /Users/tirtarumy/anaconda3/envs/kidney_disease/lib/python3.8/site-packages (from tensorflow-macos) (2.4.0)\n",
      "Requirement already satisfied: typing-extensions<4.6.0,>=3.6.6 in /Users/tirtarumy/anaconda3/envs/kidney_disease/lib/python3.8/site-packages (from tensorflow-macos) (4.5.0)\n",
      "Requirement already satisfied: wrapt>=1.11.0 in /Users/tirtarumy/anaconda3/envs/kidney_disease/lib/python3.8/site-packages (from tensorflow-macos) (1.14.1)\n",
      "Requirement already satisfied: grpcio<2.0,>=1.24.3 in /Users/tirtarumy/anaconda3/envs/kidney_disease/lib/python3.8/site-packages (from tensorflow-macos) (1.66.1)\n",
      "Requirement already satisfied: tensorboard<2.14,>=2.13 in /Users/tirtarumy/anaconda3/envs/kidney_disease/lib/python3.8/site-packages (from tensorflow-macos) (2.13.0)\n",
      "Requirement already satisfied: tensorflow-estimator<2.14,>=2.13.0 in /Users/tirtarumy/anaconda3/envs/kidney_disease/lib/python3.8/site-packages (from tensorflow-macos) (2.13.0)\n",
      "Requirement already satisfied: keras<2.14,>=2.13.1 in /Users/tirtarumy/anaconda3/envs/kidney_disease/lib/python3.8/site-packages (from tensorflow-macos) (2.13.1)\n",
      "Requirement already satisfied: wheel<1.0,>=0.23.0 in /Users/tirtarumy/anaconda3/envs/kidney_disease/lib/python3.8/site-packages (from astunparse>=1.6.0->tensorflow-macos) (0.43.0)\n",
      "Requirement already satisfied: google-auth<3,>=1.6.3 in /Users/tirtarumy/anaconda3/envs/kidney_disease/lib/python3.8/site-packages (from tensorboard<2.14,>=2.13->tensorflow-macos) (2.35.0)\n",
      "Requirement already satisfied: google-auth-oauthlib<1.1,>=0.5 in /Users/tirtarumy/anaconda3/envs/kidney_disease/lib/python3.8/site-packages (from tensorboard<2.14,>=2.13->tensorflow-macos) (1.0.0)\n",
      "Requirement already satisfied: markdown>=2.6.8 in /Users/tirtarumy/anaconda3/envs/kidney_disease/lib/python3.8/site-packages (from tensorboard<2.14,>=2.13->tensorflow-macos) (3.4.1)\n",
      "Requirement already satisfied: requests<3,>=2.21.0 in /Users/tirtarumy/anaconda3/envs/kidney_disease/lib/python3.8/site-packages (from tensorboard<2.14,>=2.13->tensorflow-macos) (2.32.2)\n",
      "Requirement already satisfied: tensorboard-data-server<0.8.0,>=0.7.0 in /Users/tirtarumy/anaconda3/envs/kidney_disease/lib/python3.8/site-packages (from tensorboard<2.14,>=2.13->tensorflow-macos) (0.7.2)\n",
      "Requirement already satisfied: werkzeug>=1.0.1 in /Users/tirtarumy/anaconda3/envs/kidney_disease/lib/python3.8/site-packages (from tensorboard<2.14,>=2.13->tensorflow-macos) (3.0.3)\n",
      "Requirement already satisfied: cachetools<6.0,>=2.0.0 in /Users/tirtarumy/anaconda3/envs/kidney_disease/lib/python3.8/site-packages (from google-auth<3,>=1.6.3->tensorboard<2.14,>=2.13->tensorflow-macos) (5.3.3)\n",
      "Requirement already satisfied: pyasn1-modules>=0.2.1 in /Users/tirtarumy/anaconda3/envs/kidney_disease/lib/python3.8/site-packages (from google-auth<3,>=1.6.3->tensorboard<2.14,>=2.13->tensorflow-macos) (0.2.8)\n",
      "Requirement already satisfied: rsa<5,>=3.1.4 in /Users/tirtarumy/anaconda3/envs/kidney_disease/lib/python3.8/site-packages (from google-auth<3,>=1.6.3->tensorboard<2.14,>=2.13->tensorflow-macos) (4.9)\n",
      "Requirement already satisfied: requests-oauthlib>=0.7.0 in /Users/tirtarumy/anaconda3/envs/kidney_disease/lib/python3.8/site-packages (from google-auth-oauthlib<1.1,>=0.5->tensorboard<2.14,>=2.13->tensorflow-macos) (2.0.0)\n",
      "Requirement already satisfied: importlib-metadata>=4.4 in /Users/tirtarumy/anaconda3/envs/kidney_disease/lib/python3.8/site-packages (from markdown>=2.6.8->tensorboard<2.14,>=2.13->tensorflow-macos) (7.0.1)\n",
      "Requirement already satisfied: charset-normalizer<4,>=2 in /Users/tirtarumy/anaconda3/envs/kidney_disease/lib/python3.8/site-packages (from requests<3,>=2.21.0->tensorboard<2.14,>=2.13->tensorflow-macos) (2.0.4)\n",
      "Requirement already satisfied: idna<4,>=2.5 in /Users/tirtarumy/anaconda3/envs/kidney_disease/lib/python3.8/site-packages (from requests<3,>=2.21.0->tensorboard<2.14,>=2.13->tensorflow-macos) (3.7)\n",
      "Requirement already satisfied: urllib3<3,>=1.21.1 in /Users/tirtarumy/anaconda3/envs/kidney_disease/lib/python3.8/site-packages (from requests<3,>=2.21.0->tensorboard<2.14,>=2.13->tensorflow-macos) (1.26.19)\n",
      "Requirement already satisfied: certifi>=2017.4.17 in /Users/tirtarumy/anaconda3/envs/kidney_disease/lib/python3.8/site-packages (from requests<3,>=2.21.0->tensorboard<2.14,>=2.13->tensorflow-macos) (2024.6.2)\n",
      "Requirement already satisfied: MarkupSafe>=2.1.1 in /Users/tirtarumy/anaconda3/envs/kidney_disease/lib/python3.8/site-packages (from werkzeug>=1.0.1->tensorboard<2.14,>=2.13->tensorflow-macos) (2.1.3)\n",
      "Requirement already satisfied: zipp>=0.5 in /Users/tirtarumy/anaconda3/envs/kidney_disease/lib/python3.8/site-packages (from importlib-metadata>=4.4->markdown>=2.6.8->tensorboard<2.14,>=2.13->tensorflow-macos) (3.17.0)\n",
      "Requirement already satisfied: pyasn1<0.5.0,>=0.4.6 in /Users/tirtarumy/anaconda3/envs/kidney_disease/lib/python3.8/site-packages (from pyasn1-modules>=0.2.1->google-auth<3,>=1.6.3->tensorboard<2.14,>=2.13->tensorflow-macos) (0.4.8)\n",
      "Requirement already satisfied: oauthlib>=3.0.0 in /Users/tirtarumy/anaconda3/envs/kidney_disease/lib/python3.8/site-packages (from requests-oauthlib>=0.7.0->google-auth-oauthlib<1.1,>=0.5->tensorboard<2.14,>=2.13->tensorflow-macos) (3.2.2)\n",
      "Requirement already satisfied: gast==0.4.0 in /Users/tirtarumy/anaconda3/envs/kidney_disease/lib/python3.8/site-packages (0.4.0)\n",
      "Requirement already satisfied: keras==2.13.1 in /Users/tirtarumy/anaconda3/envs/kidney_disease/lib/python3.8/site-packages (2.13.1)\n",
      "Requirement already satisfied: numpy==1.24.3 in /Users/tirtarumy/anaconda3/envs/kidney_disease/lib/python3.8/site-packages (1.24.3)\n",
      "Requirement already satisfied: tensorboard==2.13 in /Users/tirtarumy/anaconda3/envs/kidney_disease/lib/python3.8/site-packages (2.13.0)\n",
      "Requirement already satisfied: absl-py>=0.4 in /Users/tirtarumy/anaconda3/envs/kidney_disease/lib/python3.8/site-packages (from tensorboard==2.13) (2.1.0)\n",
      "Requirement already satisfied: grpcio>=1.48.2 in /Users/tirtarumy/anaconda3/envs/kidney_disease/lib/python3.8/site-packages (from tensorboard==2.13) (1.66.1)\n",
      "Requirement already satisfied: google-auth<3,>=1.6.3 in /Users/tirtarumy/anaconda3/envs/kidney_disease/lib/python3.8/site-packages (from tensorboard==2.13) (2.35.0)\n",
      "Requirement already satisfied: google-auth-oauthlib<1.1,>=0.5 in /Users/tirtarumy/anaconda3/envs/kidney_disease/lib/python3.8/site-packages (from tensorboard==2.13) (1.0.0)\n",
      "Requirement already satisfied: markdown>=2.6.8 in /Users/tirtarumy/anaconda3/envs/kidney_disease/lib/python3.8/site-packages (from tensorboard==2.13) (3.4.1)\n",
      "Requirement already satisfied: protobuf>=3.19.6 in /Users/tirtarumy/anaconda3/envs/kidney_disease/lib/python3.8/site-packages (from tensorboard==2.13) (3.20.3)\n",
      "Requirement already satisfied: requests<3,>=2.21.0 in /Users/tirtarumy/anaconda3/envs/kidney_disease/lib/python3.8/site-packages (from tensorboard==2.13) (2.32.2)\n",
      "Requirement already satisfied: setuptools>=41.0.0 in /Users/tirtarumy/anaconda3/envs/kidney_disease/lib/python3.8/site-packages (from tensorboard==2.13) (69.5.1)\n",
      "Requirement already satisfied: tensorboard-data-server<0.8.0,>=0.7.0 in /Users/tirtarumy/anaconda3/envs/kidney_disease/lib/python3.8/site-packages (from tensorboard==2.13) (0.7.2)\n",
      "Requirement already satisfied: werkzeug>=1.0.1 in /Users/tirtarumy/anaconda3/envs/kidney_disease/lib/python3.8/site-packages (from tensorboard==2.13) (3.0.3)\n",
      "Requirement already satisfied: wheel>=0.26 in /Users/tirtarumy/anaconda3/envs/kidney_disease/lib/python3.8/site-packages (from tensorboard==2.13) (0.43.0)\n",
      "Requirement already satisfied: cachetools<6.0,>=2.0.0 in /Users/tirtarumy/anaconda3/envs/kidney_disease/lib/python3.8/site-packages (from google-auth<3,>=1.6.3->tensorboard==2.13) (5.3.3)\n",
      "Requirement already satisfied: pyasn1-modules>=0.2.1 in /Users/tirtarumy/anaconda3/envs/kidney_disease/lib/python3.8/site-packages (from google-auth<3,>=1.6.3->tensorboard==2.13) (0.2.8)\n",
      "Requirement already satisfied: rsa<5,>=3.1.4 in /Users/tirtarumy/anaconda3/envs/kidney_disease/lib/python3.8/site-packages (from google-auth<3,>=1.6.3->tensorboard==2.13) (4.9)\n",
      "Requirement already satisfied: requests-oauthlib>=0.7.0 in /Users/tirtarumy/anaconda3/envs/kidney_disease/lib/python3.8/site-packages (from google-auth-oauthlib<1.1,>=0.5->tensorboard==2.13) (2.0.0)\n",
      "Requirement already satisfied: importlib-metadata>=4.4 in /Users/tirtarumy/anaconda3/envs/kidney_disease/lib/python3.8/site-packages (from markdown>=2.6.8->tensorboard==2.13) (7.0.1)\n",
      "Requirement already satisfied: charset-normalizer<4,>=2 in /Users/tirtarumy/anaconda3/envs/kidney_disease/lib/python3.8/site-packages (from requests<3,>=2.21.0->tensorboard==2.13) (2.0.4)\n",
      "Requirement already satisfied: idna<4,>=2.5 in /Users/tirtarumy/anaconda3/envs/kidney_disease/lib/python3.8/site-packages (from requests<3,>=2.21.0->tensorboard==2.13) (3.7)\n",
      "Requirement already satisfied: urllib3<3,>=1.21.1 in /Users/tirtarumy/anaconda3/envs/kidney_disease/lib/python3.8/site-packages (from requests<3,>=2.21.0->tensorboard==2.13) (1.26.19)\n",
      "Requirement already satisfied: certifi>=2017.4.17 in /Users/tirtarumy/anaconda3/envs/kidney_disease/lib/python3.8/site-packages (from requests<3,>=2.21.0->tensorboard==2.13) (2024.6.2)\n",
      "Requirement already satisfied: MarkupSafe>=2.1.1 in /Users/tirtarumy/anaconda3/envs/kidney_disease/lib/python3.8/site-packages (from werkzeug>=1.0.1->tensorboard==2.13) (2.1.3)\n",
      "Requirement already satisfied: zipp>=0.5 in /Users/tirtarumy/anaconda3/envs/kidney_disease/lib/python3.8/site-packages (from importlib-metadata>=4.4->markdown>=2.6.8->tensorboard==2.13) (3.17.0)\n",
      "Requirement already satisfied: pyasn1<0.5.0,>=0.4.6 in /Users/tirtarumy/anaconda3/envs/kidney_disease/lib/python3.8/site-packages (from pyasn1-modules>=0.2.1->google-auth<3,>=1.6.3->tensorboard==2.13) (0.4.8)\n",
      "Requirement already satisfied: oauthlib>=3.0.0 in /Users/tirtarumy/anaconda3/envs/kidney_disease/lib/python3.8/site-packages (from requests-oauthlib>=0.7.0->google-auth-oauthlib<1.1,>=0.5->tensorboard==2.13) (3.2.2)\n"
     ]
    }
   ],
   "source": [
    "!pip install --upgrade tensorflow-macos\n",
    "!pip install gast==0.4.0 keras==2.13.1 numpy==1.24.3 tensorboard==2.13\n",
    "import tensorflow as tf\n"
   ]
  },
  {
   "cell_type": "code",
   "execution_count": 12,
   "metadata": {},
   "outputs": [
    {
     "ename": "TypeError",
     "evalue": "Error when deserializing class 'InputLayer' using config={'batch_shape': [None, 224, 224, 3], 'dtype': 'float32', 'sparse': False, 'name': 'input_layer'}.\n\nException encountered: Unrecognized keyword arguments: ['batch_shape']",
     "output_type": "error",
     "traceback": [
      "\u001b[0;31m---------------------------------------------------------------------------\u001b[0m",
      "\u001b[0;31mTypeError\u001b[0m                                 Traceback (most recent call last)",
      "Cell \u001b[0;32mIn[12], line 1\u001b[0m\n\u001b[0;32m----> 1\u001b[0m model \u001b[39m=\u001b[39m tf\u001b[39m.\u001b[39;49mkeras\u001b[39m.\u001b[39;49mmodels\u001b[39m.\u001b[39;49mload_model(\u001b[39m\"\u001b[39;49m\u001b[39m/Users/tirtarumy/Documents/Data scientist porto/Self Project/ML Engineer (Deep Learning)/Kidney Diseases Classifications/artifacts/training/model.h5\u001b[39;49m\u001b[39m\"\u001b[39;49m)\n\u001b[1;32m      3\u001b[0m \u001b[39mfrom\u001b[39;00m \u001b[39mkeras\u001b[39;00m\u001b[39m.\u001b[39;00m\u001b[39mlayers\u001b[39;00m \u001b[39mimport\u001b[39;00m InputLayer\n\u001b[1;32m      5\u001b[0m model \u001b[39m=\u001b[39m tf\u001b[39m.\u001b[39mkeras\u001b[39m.\u001b[39mmodels\u001b[39m.\u001b[39mload_model(\n\u001b[1;32m      6\u001b[0m     \u001b[39m\"\u001b[39m\u001b[39m/path/to/model.h5\u001b[39m\u001b[39m\"\u001b[39m,\n\u001b[1;32m      7\u001b[0m     custom_objects\u001b[39m=\u001b[39m{\u001b[39m'\u001b[39m\u001b[39mInputLayer\u001b[39m\u001b[39m'\u001b[39m: InputLayer}\n\u001b[1;32m      8\u001b[0m )\n",
      "File \u001b[0;32m~/anaconda3/envs/kidney_disease/lib/python3.8/site-packages/keras/src/saving/saving_api.py:238\u001b[0m, in \u001b[0;36mload_model\u001b[0;34m(filepath, custom_objects, compile, safe_mode, **kwargs)\u001b[0m\n\u001b[1;32m    230\u001b[0m     \u001b[39mreturn\u001b[39;00m saving_lib\u001b[39m.\u001b[39mload_model(\n\u001b[1;32m    231\u001b[0m         filepath,\n\u001b[1;32m    232\u001b[0m         custom_objects\u001b[39m=\u001b[39mcustom_objects,\n\u001b[1;32m    233\u001b[0m         \u001b[39mcompile\u001b[39m\u001b[39m=\u001b[39m\u001b[39mcompile\u001b[39m,\n\u001b[1;32m    234\u001b[0m         safe_mode\u001b[39m=\u001b[39msafe_mode,\n\u001b[1;32m    235\u001b[0m     )\n\u001b[1;32m    237\u001b[0m \u001b[39m# Legacy case.\u001b[39;00m\n\u001b[0;32m--> 238\u001b[0m \u001b[39mreturn\u001b[39;00m legacy_sm_saving_lib\u001b[39m.\u001b[39;49mload_model(\n\u001b[1;32m    239\u001b[0m     filepath, custom_objects\u001b[39m=\u001b[39;49mcustom_objects, \u001b[39mcompile\u001b[39;49m\u001b[39m=\u001b[39;49m\u001b[39mcompile\u001b[39;49m, \u001b[39m*\u001b[39;49m\u001b[39m*\u001b[39;49mkwargs\n\u001b[1;32m    240\u001b[0m )\n",
      "File \u001b[0;32m~/anaconda3/envs/kidney_disease/lib/python3.8/site-packages/keras/src/utils/traceback_utils.py:70\u001b[0m, in \u001b[0;36mfilter_traceback.<locals>.error_handler\u001b[0;34m(*args, **kwargs)\u001b[0m\n\u001b[1;32m     67\u001b[0m     filtered_tb \u001b[39m=\u001b[39m _process_traceback_frames(e\u001b[39m.\u001b[39m__traceback__)\n\u001b[1;32m     68\u001b[0m     \u001b[39m# To get the full stack trace, call:\u001b[39;00m\n\u001b[1;32m     69\u001b[0m     \u001b[39m# `tf.debugging.disable_traceback_filtering()`\u001b[39;00m\n\u001b[0;32m---> 70\u001b[0m     \u001b[39mraise\u001b[39;00m e\u001b[39m.\u001b[39mwith_traceback(filtered_tb) \u001b[39mfrom\u001b[39;00m \u001b[39mNone\u001b[39;00m\n\u001b[1;32m     71\u001b[0m \u001b[39mfinally\u001b[39;00m:\n\u001b[1;32m     72\u001b[0m     \u001b[39mdel\u001b[39;00m filtered_tb\n",
      "File \u001b[0;32m~/anaconda3/envs/kidney_disease/lib/python3.8/site-packages/keras/src/engine/base_layer.py:870\u001b[0m, in \u001b[0;36mLayer.from_config\u001b[0;34m(cls, config)\u001b[0m\n\u001b[1;32m    868\u001b[0m     \u001b[39mreturn\u001b[39;00m \u001b[39mcls\u001b[39m(\u001b[39m*\u001b[39m\u001b[39m*\u001b[39mconfig)\n\u001b[1;32m    869\u001b[0m \u001b[39mexcept\u001b[39;00m \u001b[39mException\u001b[39;00m \u001b[39mas\u001b[39;00m e:\n\u001b[0;32m--> 870\u001b[0m     \u001b[39mraise\u001b[39;00m \u001b[39mTypeError\u001b[39;00m(\n\u001b[1;32m    871\u001b[0m         \u001b[39mf\u001b[39m\u001b[39m\"\u001b[39m\u001b[39mError when deserializing class \u001b[39m\u001b[39m'\u001b[39m\u001b[39m{\u001b[39;00m\u001b[39mcls\u001b[39m\u001b[39m.\u001b[39m\u001b[39m__name__\u001b[39m\u001b[39m}\u001b[39;00m\u001b[39m'\u001b[39m\u001b[39m using \u001b[39m\u001b[39m\"\u001b[39m\n\u001b[1;32m    872\u001b[0m         \u001b[39mf\u001b[39m\u001b[39m\"\u001b[39m\u001b[39mconfig=\u001b[39m\u001b[39m{\u001b[39;00mconfig\u001b[39m}\u001b[39;00m\u001b[39m.\u001b[39m\u001b[39m\\n\u001b[39;00m\u001b[39m\\n\u001b[39;00m\u001b[39mException encountered: \u001b[39m\u001b[39m{\u001b[39;00me\u001b[39m}\u001b[39;00m\u001b[39m\"\u001b[39m\n\u001b[1;32m    873\u001b[0m     )\n",
      "\u001b[0;31mTypeError\u001b[0m: Error when deserializing class 'InputLayer' using config={'batch_shape': [None, 224, 224, 3], 'dtype': 'float32', 'sparse': False, 'name': 'input_layer'}.\n\nException encountered: Unrecognized keyword arguments: ['batch_shape']"
     ]
    }
   ],
   "source": [
    "model = tf.keras.models.load_model(\"/Users/tirtarumy/Documents/Data scientist porto/Self Project/ML Engineer (Deep Learning)/Kidney Diseases Classifications/artifacts/training/model.h5\")\n",
    "\n",
    "from keras.layers import InputLayer\n",
    "\n",
    "model = tf.keras.models.load_model(\n",
    "    \"/path/to/model.h5\",\n",
    "    custom_objects={'InputLayer': InputLayer}\n",
    ")\n"
   ]
  },
  {
   "cell_type": "code",
   "execution_count": null,
   "metadata": {},
   "outputs": [],
   "source": []
  }
 ],
 "metadata": {
  "kernelspec": {
   "display_name": "kidney_disease",
   "language": "python",
   "name": "python3"
  },
  "language_info": {
   "codemirror_mode": {
    "name": "ipython",
    "version": 3
   },
   "file_extension": ".py",
   "mimetype": "text/x-python",
   "name": "python",
   "nbconvert_exporter": "python",
   "pygments_lexer": "ipython3",
   "version": "3.8.19"
  },
  "orig_nbformat": 4
 },
 "nbformat": 4,
 "nbformat_minor": 2
}
