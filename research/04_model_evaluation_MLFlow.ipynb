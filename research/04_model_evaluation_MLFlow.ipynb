{
 "cells": [
  {
   "cell_type": "code",
   "execution_count": 1,
   "metadata": {},
   "outputs": [
    {
     "data": {
      "text/plain": [
       "'/Users/tirtarumy/Documents/Data scientist porto/Self Project/ML Engineer (Deep Learning)/Kidney Diseases Classifications/research'"
      ]
     },
     "execution_count": 1,
     "metadata": {},
     "output_type": "execute_result"
    }
   ],
   "source": [
    "import os\n",
    "%pwd"
   ]
  },
  {
   "cell_type": "code",
   "execution_count": 2,
   "metadata": {},
   "outputs": [
    {
     "data": {
      "text/plain": [
       "'/Users/tirtarumy/Documents/Data scientist porto/Self Project/ML Engineer (Deep Learning)/Kidney Diseases Classifications'"
      ]
     },
     "execution_count": 2,
     "metadata": {},
     "output_type": "execute_result"
    }
   ],
   "source": [
    "os.chdir(\"/Users/tirtarumy/Documents/Data scientist porto/Self Project/ML Engineer (Deep Learning)/Kidney Diseases Classifications\")\n",
    "%pwd"
   ]
  },
  {
   "cell_type": "code",
   "execution_count": 3,
   "metadata": {},
   "outputs": [],
   "source": [
    "# os.environ[\"ML_FLOW_TRACKING_URI\"] = \"http://\"\n",
    "# os.environ[\"ML_FLOW-TRACKING_USERNAME\"] = \"tirtapir\"\n",
    "# os.environ[\"ML_FLOW-TRACKING_PASSWORD\"] = \"kidney_disease\""
   ]
  },
  {
   "cell_type": "code",
   "execution_count": 4,
   "metadata": {},
   "outputs": [],
   "source": [
    "# !pip install dagshub\n",
    "# !pip install mlflow"
   ]
  },
  {
   "cell_type": "code",
   "execution_count": 3,
   "metadata": {},
   "outputs": [
    {
     "data": {
      "text/html": [
       "<pre style=\"white-space:pre;overflow-x:auto;line-height:normal;font-family:Menlo,'DejaVu Sans Mono',consolas,'Courier New',monospace\">Accessing as tirtapir\n",
       "</pre>\n"
      ],
      "text/plain": [
       "Accessing as tirtapir\n"
      ]
     },
     "metadata": {},
     "output_type": "display_data"
    },
    {
     "data": {
      "text/html": [
       "<pre style=\"white-space:pre;overflow-x:auto;line-height:normal;font-family:Menlo,'DejaVu Sans Mono',consolas,'Courier New',monospace\">Initialized MLflow to track repo <span style=\"color: #008000; text-decoration-color: #008000\">\"tirtapir/End-to-end-Kidney-Diseases-Classification\"</span>\n",
       "</pre>\n"
      ],
      "text/plain": [
       "Initialized MLflow to track repo \u001b[32m\"tirtapir/End-to-end-Kidney-Diseases-Classification\"\u001b[0m\n"
      ]
     },
     "metadata": {},
     "output_type": "display_data"
    },
    {
     "data": {
      "text/html": [
       "<pre style=\"white-space:pre;overflow-x:auto;line-height:normal;font-family:Menlo,'DejaVu Sans Mono',consolas,'Courier New',monospace\">Repository tirtapir/End-to-end-Kidney-Diseases-Classification initialized!\n",
       "</pre>\n"
      ],
      "text/plain": [
       "Repository tirtapir/End-to-end-Kidney-Diseases-Classification initialized!\n"
      ]
     },
     "metadata": {},
     "output_type": "display_data"
    },
    {
     "name": "stderr",
     "output_type": "stream",
     "text": [
      "2024/09/27 13:38:33 INFO mlflow.tracking._tracking_service.client: 🏃 View run victorious-deer-644 at: https://dagshub.com/tirtapir/End-to-end-Kidney-Diseases-Classification.mlflow/#/experiments/0/runs/59ee615ae1a947d9b8c6c1f7757a989a.\n",
      "2024/09/27 13:38:33 INFO mlflow.tracking._tracking_service.client: 🧪 View experiment at: https://dagshub.com/tirtapir/End-to-end-Kidney-Diseases-Classification.mlflow/#/experiments/0.\n"
     ]
    }
   ],
   "source": [
    "import dagshub\n",
    "dagshub.init(repo_owner='tirtapir', repo_name='End-to-end-Kidney-Diseases-Classification', mlflow=True)\n",
    "\n",
    "import mlflow\n",
    "with mlflow.start_run():\n",
    "  mlflow.log_param('parameter name', 'value')\n",
    "  mlflow.log_metric('metric name', 1)"
   ]
  },
  {
   "cell_type": "code",
   "execution_count": null,
   "metadata": {},
   "outputs": [],
   "source": [
    "# !pip install --upgrade tensorflow-macos\n",
    "# !pip install gast==0.4.0 keras==2.13.1 numpy==1.24.3 tensorboard==2.13\n",
    "# import tensorflow as tf\n",
    "# %pip uninstall -y tensorflow keras\n",
    "%pip install  tensorflow==2.12\n",
    "# %pip install keras\n",
    "\n"
   ]
  },
  {
   "cell_type": "code",
   "execution_count": null,
   "metadata": {},
   "outputs": [],
   "source": [
    "import tensorflow as tf\n",
    "print(tf.__version__)\n",
    "print(tf.keras.__version__)"
   ]
  },
  {
   "cell_type": "code",
   "execution_count": null,
   "metadata": {},
   "outputs": [],
   "source": [
    "\n",
    "model = tf.keras.models.load_model(\"/Users/tirtarumy/Documents/Data scientist porto/Self Project/ML Engineer (Deep Learning)/Kidney Diseases Classifications/artifacts/training/model.h5\")\n",
    "\n",
    "# from keras.layers import InputLayer\n",
    "\n",
    "# model = tf.keras.models.load_model(\n",
    "#     \"/path/to/model.h5\",\n",
    "#     custom_objects={'InputLayer': InputLayer}\n",
    "# )\n"
   ]
  },
  {
   "cell_type": "code",
   "execution_count": 1,
   "metadata": {},
   "outputs": [
    {
     "name": "stdout",
     "output_type": "stream",
     "text": [
      "Type of mlflow: <class 'module'>\n",
      "Available attributes: ['ActiveRun', 'Image', 'LazyLoader', 'MLFLOW_CONFIGURE_LOGGING', 'MlflowClient', 'MlflowException', 'RunOperations', 'VERSION', '__all__', '__builtins__', '__cached__', '__doc__', '__file__', '__loader__', '__name__', '__package__', '__path__', '__spec__', '__version__', '_configure_mlflow_loggers', 'active_run', 'add_trace', 'artifacts', 'autogen', 'autolog', 'azure', 'catboost', 'client', 'config', 'contextlib', 'create_experiment', 'data', 'delete_experiment', 'delete_run', 'delete_tag', 'disable_system_metrics_logging', 'diviner', 'doctor', 'enable_system_metrics_logging', 'end_run', 'entities', 'environment_variables', 'evaluate', 'exceptions', 'fastai', 'flush_artifact_async_logging', 'flush_async_logging', 'flush_trace_async_logging', 'get_artifact_uri', 'get_current_active_span', 'get_experiment', 'get_experiment_by_name', 'get_last_active_trace', 'get_parent_run', 'get_registry_uri', 'get_run', 'get_trace', 'get_tracking_uri', 'gluon', 'h2o', 'is_tracking_uri_set', 'johnsnowlabs', 'keras', 'langchain', 'last_active_run', 'legacy_databricks_cli', 'lightgbm', 'llama_index', 'llm', 'load_table', 'log_artifact', 'log_artifacts', 'log_dict', 'log_figure', 'log_image', 'log_input', 'log_metric', 'log_metrics', 'log_param', 'log_params', 'log_table', 'log_text', 'login', 'metrics', 'ml_package_versions', 'mleap', 'models', 'onnx', 'openai', 'paddle', 'pmdarima', 'projects', 'promptflow', 'promptlab', 'prophet', 'protos', 'pyfunc', 'pyspark', 'pytorch', 'recipes', 'register_model', 'rfunc', 'run', 'search_experiments', 'search_model_versions', 'search_registered_models', 'search_runs', 'search_traces', 'sentence_transformers', 'set_experiment', 'set_experiment_tag', 'set_experiment_tags', 'set_registry_uri', 'set_system_metrics_node_id', 'set_system_metrics_samples_before_logging', 'set_system_metrics_sampling_interval', 'set_tag', 'set_tags', 'set_tracking_uri', 'shap', 'sklearn', 'spacy', 'spark', 'start_run', 'start_span', 'statsmodels', 'store', 'system_metrics', 'tensorflow', 'trace', 'tracing', 'tracking', 'transformers', 'types', 'utils', 'version', 'xgboost']\n",
      "Type of get_tracking_uri: <class 'function'>\n"
     ]
    }
   ],
   "source": [
    "import mlflow\n",
    "\n",
    "print(\"Type of mlflow:\", type(mlflow))\n",
    "print(\"Available attributes:\", dir(mlflow))\n",
    "print(\"Type of get_tracking_uri:\", type(getattr(mlflow, \"get_tracking_uri\", None)))"
   ]
  },
  {
   "cell_type": "code",
   "execution_count": 2,
   "metadata": {},
   "outputs": [
    {
     "name": "stdout",
     "output_type": "stream",
     "text": [
      "Current Tracking URI: file:///Users/tirtarumy/Documents/Data%20scientist%20porto/Self%20Project/ML%20Engineer%20%28Deep%20Learning%29/Kidney%20Diseases%20Classifications/research/mlruns\n"
     ]
    }
   ],
   "source": [
    "import mlflow\n",
    "from mlflow.tracking import get_tracking_uri\n",
    "\n",
    "def test_mlflow():\n",
    "    print(\"Current Tracking URI:\", get_tracking_uri())\n",
    "\n",
    "if __name__ == \"__main__\":\n",
    "    test_mlflow()"
   ]
  },
  {
   "cell_type": "code",
   "execution_count": null,
   "metadata": {},
   "outputs": [],
   "source": []
  }
 ],
 "metadata": {
  "kernelspec": {
   "display_name": "kidney_disease",
   "language": "python",
   "name": "python3"
  },
  "language_info": {
   "codemirror_mode": {
    "name": "ipython",
    "version": 3
   },
   "file_extension": ".py",
   "mimetype": "text/x-python",
   "name": "python",
   "nbconvert_exporter": "python",
   "pygments_lexer": "ipython3",
   "version": "3.8.19"
  },
  "orig_nbformat": 4
 },
 "nbformat": 4,
 "nbformat_minor": 2
}
